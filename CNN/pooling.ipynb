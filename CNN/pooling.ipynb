{
 "cells": [
  {
   "cell_type": "code",
   "execution_count": 1,
   "id": "1fc398ab-bfca-4f42-859a-ab68266789a7",
   "metadata": {},
   "outputs": [
    {
     "name": "stderr",
     "output_type": "stream",
     "text": [
      "/opt/anaconda3/lib/python3.11/site-packages/torch/utils/_pytree.py:185: FutureWarning: optree is installed but the version is too old to support PyTorch Dynamo in C++ pytree. C++ pytree support is disabled. Please consider upgrading optree using `python3 -m pip install --upgrade 'optree>=0.13.0'`.\n",
      "  warnings.warn(\n"
     ]
    }
   ],
   "source": [
    "import torch\n",
    "import torch.nn as nn"
   ]
  },
  {
   "cell_type": "code",
   "execution_count": 3,
   "id": "9b639c8d-215f-4052-93e8-a92b07cdadca",
   "metadata": {},
   "outputs": [
    {
     "name": "stdout",
     "output_type": "stream",
     "text": [
      "MaxPool2d(kernel_size=3, stride=3, padding=0, dilation=1, ceil_mode=False)\n",
      "MaxPool3d(kernel_size=3, stride=3, padding=0, dilation=1, ceil_mode=False)\n"
     ]
    }
   ],
   "source": [
    "poolSize = 3\n",
    "stride = 3\n",
    "\n",
    "p2 = nn.MaxPool2d(poolSize,stride=3)\n",
    "p3 = nn.MaxPool3d(poolSize,stride=3)\n",
    "\n",
    "print(p2)\n",
    "print(p3)"
   ]
  },
  {
   "cell_type": "code",
   "execution_count": 9,
   "id": "7579d307-706c-4067-96b2-c5f5bac8ac2f",
   "metadata": {},
   "outputs": [
    {
     "data": {
      "text/plain": [
       "(torch.Size([1, 1, 10, 10]),\n",
       " torch.Size([1, 3, 10, 10]),\n",
       " torch.Size([1, 1, 10, 10]))"
      ]
     },
     "execution_count": 9,
     "metadata": {},
     "output_type": "execute_result"
    }
   ],
   "source": [
    "img2 = torch.randn(1,1,30,30)\n",
    "img3 = torch.randn(1,3,30,30)\n",
    "\n",
    "pooled2Img2 = p2(img2)\n",
    "pooled2Img3 = p2(img3)\n",
    "# pooled3Img2 = p3(img2)\n",
    "pooled3Img3 = p3(img3)\n",
    "\n",
    "pooled2Img2.shape,pooled2Img3.shape,pooled3Img3.shape"
   ]
  },
  {
   "cell_type": "code",
   "execution_count": 15,
   "id": "0e86b961-e626-4772-ad8c-7670c6c6f47f",
   "metadata": {},
   "outputs": [],
   "source": [
    "littleNet = nn.Sequential(\n",
    "    nn.Conv2d(3,10,5,3,2),\n",
    "    nn.ReLU(),\n",
    "    nn.AvgPool3d(3,3),\n",
    "\n",
    "    nn.Flatten(),\n",
    "    nn.Linear(588,1),\n",
    "    nn.Sigmoid()\n",
    ")"
   ]
  },
  {
   "cell_type": "code",
   "execution_count": 21,
   "id": "0d0610f0-6f2a-41a5-bca5-a81335482716",
   "metadata": {},
   "outputs": [
    {
     "data": {
      "text/plain": [
       "0.5034559965133667"
      ]
     },
     "execution_count": 21,
     "metadata": {},
     "output_type": "execute_result"
    }
   ],
   "source": [
    "img = torch.rand(1,3,128,128)\n",
    "littleNet(img).detach().item()"
   ]
  }
 ],
 "metadata": {
  "kernelspec": {
   "display_name": "Python 3 (ipykernel)",
   "language": "python",
   "name": "python3"
  },
  "language_info": {
   "codemirror_mode": {
    "name": "ipython",
    "version": 3
   },
   "file_extension": ".py",
   "mimetype": "text/x-python",
   "name": "python",
   "nbconvert_exporter": "python",
   "pygments_lexer": "ipython3",
   "version": "3.11.5"
  }
 },
 "nbformat": 4,
 "nbformat_minor": 5
}
