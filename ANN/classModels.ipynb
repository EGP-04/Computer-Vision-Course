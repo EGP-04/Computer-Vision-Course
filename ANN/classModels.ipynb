{
 "cells": [
  {
   "cell_type": "code",
   "execution_count": 1,
   "id": "69b6684c-8944-4c0c-9a33-122c04784a9e",
   "metadata": {},
   "outputs": [],
   "source": [
    "import torch\n",
    "import torch.nn as nn\n",
    "import numpy as np\n",
    "import torch.nn.functional as F\n",
    "import matplotlib.pyplot as plt"
   ]
  },
  {
   "cell_type": "code",
   "execution_count": 3,
   "id": "52dbaa24-2f55-4f1f-aef1-c4bbe8b401df",
   "metadata": {},
   "outputs": [
    {
     "name": "stdout",
     "output_type": "stream",
     "text": [
      "   sepal_length  sepal_width  petal_length  petal_width species\n",
      "0           5.1          3.5           1.4          0.2  setosa\n",
      "1           4.9          3.0           1.4          0.2  setosa\n",
      "2           4.7          3.2           1.3          0.2  setosa\n",
      "3           4.6          3.1           1.5          0.2  setosa\n",
      "4           5.0          3.6           1.4          0.2  setosa\n"
     ]
    }
   ],
   "source": [
    "import pandas as pd\n",
    "iris = pd.read_csv('https://raw.githubusercontent.com/mwaskom/seaborn-data/master/iris.csv')\n",
    "print( iris.head() )"
   ]
  },
  {
   "cell_type": "code",
   "execution_count": 103,
   "id": "3005db0e-6f07-43c4-8001-02ea5ea511bb",
   "metadata": {},
   "outputs": [
    {
     "data": {
      "text/plain": [
       "tensor([0, 1, 2])"
      ]
     },
     "execution_count": 103,
     "metadata": {},
     "output_type": "execute_result"
    }
   ],
   "source": [
    "data = torch.tensor( iris[iris.columns[0:4]].values ).float()\n",
    "\n",
    "labels = torch.zeros(len(data), dtype=torch.long)\n",
    "labels[iris.species=='versicolor'] = 1\n",
    "labels[iris.species=='virginica'] = 2\n",
    "\n",
    "labels.unique()"
   ]
  },
  {
   "cell_type": "code",
   "execution_count": 95,
   "id": "e4ab1afd-b4fc-401b-920a-7aeb2fa6f537",
   "metadata": {},
   "outputs": [],
   "source": [
    "import torch\n",
    "import torch.nn as nn\n",
    "import torch.nn.functional as F\n",
    "\n",
    "class myClassModel(nn.Module):\n",
    "    def __init__(self):\n",
    "        super().__init__()\n",
    "        self.input = nn.Linear(4, 64)\n",
    "        self.output = nn.Linear(64, 3)\n",
    "\n",
    "    def forward(self, x):\n",
    "        x = self.input(x)\n",
    "        x = F.relu(x)\n",
    "        x = self.output(x)  \n",
    "        return x\n",
    "        \n",
    "ANNmodel = myClassModel()"
   ]
  },
  {
   "cell_type": "code",
   "execution_count": 97,
   "id": "a42806ed-e19d-4f13-a2f0-d9768ef63b04",
   "metadata": {},
   "outputs": [],
   "source": [
    "lossFun = nn.CrossEntropyLoss()\n",
    "optimizer = torch.optim.SGD(ANNmodel.parameters(),lr = 0.01)"
   ]
  },
  {
   "cell_type": "code",
   "execution_count": 99,
   "id": "cc93974b-e873-4f44-a6b7-dfe3a3d4f8c8",
   "metadata": {},
   "outputs": [],
   "source": [
    "numEpochs = 1000\n",
    "losses = torch.zeros(numEpochs)\n",
    "\n",
    "for epochi in range(numEpochs):\n",
    "    yHat = ANNmodel(data)\n",
    "\n",
    "    loss = lossFun(yHat,labels)\n",
    "    losses[epochi] = loss\n",
    "\n",
    "    optimizer.zero_grad()\n",
    "    loss.backward()\n",
    "    optimizer.step()\n",
    "\n",
    "\n",
    "    "
   ]
  },
  {
   "cell_type": "code",
   "execution_count": 101,
   "id": "4b11d00d-5198-4693-895b-0768c5fa7579",
   "metadata": {},
   "outputs": [
    {
     "data": {
      "image/png": "[encoded data removed]",
      "text/plain": [
       "<Figure size 640x480 with 1 Axes>"
      ]
     },
     "metadata": {},
     "output_type": "display_data"
    }
   ],
   "source": [
    "plt.plot(losses.detach())\n",
    "plt.show()"
   ]
  }
 ],
 "metadata": {
  "kernelspec": {
   "display_name": "Python 3 (ipykernel)",
   "language": "python",
   "name": "python3"
  },
  "language_info": {
   "codemirror_mode": {
    "name": "ipython",
    "version": 3
   },
   "file_extension": ".py",
   "mimetype": "text/x-python",
   "name": "python",
   "nbconvert_exporter": "python",
   "pygments_lexer": "ipython3",
   "version": "3.11.5"
  }
 },
 "nbformat": 4,
 "nbformat_minor": 5
}
